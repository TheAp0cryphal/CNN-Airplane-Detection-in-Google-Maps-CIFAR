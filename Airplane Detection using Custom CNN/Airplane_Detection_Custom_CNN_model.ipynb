{
  "nbformat": 4,
  "nbformat_minor": 0,
  "metadata": {
    "accelerator": "GPU",
    "colab": {
      "name": "Airplane Detection Custom CNN model.ipynb",
      "provenance": [],
      "collapsed_sections": []
    },
    "kernelspec": {
      "display_name": "Python 3",
      "name": "python3"
    },
    "widgets": {
      "application/vnd.jupyter.widget-state+json": {
        "38dbf0b3fc84429fb87ebfcabd59b18e": {
          "model_module": "@jupyter-widgets/controls",
          "model_name": "HBoxModel",
          "model_module_version": "1.5.0",
          "state": {
            "_view_name": "HBoxView",
            "_dom_classes": [],
            "_model_name": "HBoxModel",
            "_view_module": "@jupyter-widgets/controls",
            "_model_module_version": "1.5.0",
            "_view_count": null,
            "_view_module_version": "1.5.0",
            "box_style": "",
            "layout": "IPY_MODEL_7eaa572096984a5395489c803a0ea5f5",
            "_model_module": "@jupyter-widgets/controls",
            "children": [
              "IPY_MODEL_4b99d59b5d904daeb05a3e58a1d7aefd",
              "IPY_MODEL_98c13d709ae647e09e39ff4e34d38283",
              "IPY_MODEL_337bd78cbf5b45978eb8ba4eef7300e9"
            ]
          }
        },
        "7eaa572096984a5395489c803a0ea5f5": {
          "model_module": "@jupyter-widgets/base",
          "model_name": "LayoutModel",
          "model_module_version": "1.2.0",
          "state": {
            "_view_name": "LayoutView",
            "grid_template_rows": null,
            "right": null,
            "justify_content": null,
            "_view_module": "@jupyter-widgets/base",
            "overflow": null,
            "_model_module_version": "1.2.0",
            "_view_count": null,
            "flex_flow": null,
            "width": null,
            "min_width": null,
            "border": null,
            "align_items": null,
            "bottom": null,
            "_model_module": "@jupyter-widgets/base",
            "top": null,
            "grid_column": null,
            "overflow_y": null,
            "overflow_x": null,
            "grid_auto_flow": null,
            "grid_area": null,
            "grid_template_columns": null,
            "flex": null,
            "_model_name": "LayoutModel",
            "justify_items": null,
            "grid_row": null,
            "max_height": null,
            "align_content": null,
            "visibility": null,
            "align_self": null,
            "height": null,
            "min_height": null,
            "padding": null,
            "grid_auto_rows": null,
            "grid_gap": null,
            "max_width": null,
            "order": null,
            "_view_module_version": "1.2.0",
            "grid_template_areas": null,
            "object_position": null,
            "object_fit": null,
            "grid_auto_columns": null,
            "margin": null,
            "display": null,
            "left": null
          }
        },
        "4b99d59b5d904daeb05a3e58a1d7aefd": {
          "model_module": "@jupyter-widgets/controls",
          "model_name": "HTMLModel",
          "model_module_version": "1.5.0",
          "state": {
            "_view_name": "HTMLView",
            "style": "IPY_MODEL_e1ae8cb2f37846a6ae6d6a3dfc99eb82",
            "_dom_classes": [],
            "description": "",
            "_model_name": "HTMLModel",
            "placeholder": "​",
            "_view_module": "@jupyter-widgets/controls",
            "_model_module_version": "1.5.0",
            "value": "100%",
            "_view_count": null,
            "_view_module_version": "1.5.0",
            "description_tooltip": null,
            "_model_module": "@jupyter-widgets/controls",
            "layout": "IPY_MODEL_812da6d57d174803b6d36d08214dcb3b"
          }
        },
        "98c13d709ae647e09e39ff4e34d38283": {
          "model_module": "@jupyter-widgets/controls",
          "model_name": "FloatProgressModel",
          "model_module_version": "1.5.0",
          "state": {
            "_view_name": "ProgressView",
            "style": "IPY_MODEL_07f957bdc5fe47e88c9e5c9bd66881cb",
            "_dom_classes": [],
            "description": "",
            "_model_name": "FloatProgressModel",
            "bar_style": "success",
            "max": 7980,
            "_view_module": "@jupyter-widgets/controls",
            "_model_module_version": "1.5.0",
            "value": 7980,
            "_view_count": null,
            "_view_module_version": "1.5.0",
            "orientation": "horizontal",
            "min": 0,
            "description_tooltip": null,
            "_model_module": "@jupyter-widgets/controls",
            "layout": "IPY_MODEL_65028b6bc3cd45b0a897197f0727c156"
          }
        },
        "337bd78cbf5b45978eb8ba4eef7300e9": {
          "model_module": "@jupyter-widgets/controls",
          "model_name": "HTMLModel",
          "model_module_version": "1.5.0",
          "state": {
            "_view_name": "HTMLView",
            "style": "IPY_MODEL_38d33132da1d4397aabd6d62bc6cd333",
            "_dom_classes": [],
            "description": "",
            "_model_name": "HTMLModel",
            "placeholder": "​",
            "_view_module": "@jupyter-widgets/controls",
            "_model_module_version": "1.5.0",
            "value": " 7980/7980 [00:00&lt;00:00, 16978.94it/s]",
            "_view_count": null,
            "_view_module_version": "1.5.0",
            "description_tooltip": null,
            "_model_module": "@jupyter-widgets/controls",
            "layout": "IPY_MODEL_2f93d41241184ea88027c25ed14bd40e"
          }
        },
        "e1ae8cb2f37846a6ae6d6a3dfc99eb82": {
          "model_module": "@jupyter-widgets/controls",
          "model_name": "DescriptionStyleModel",
          "model_module_version": "1.5.0",
          "state": {
            "_view_name": "StyleView",
            "_model_name": "DescriptionStyleModel",
            "description_width": "",
            "_view_module": "@jupyter-widgets/base",
            "_model_module_version": "1.5.0",
            "_view_count": null,
            "_view_module_version": "1.2.0",
            "_model_module": "@jupyter-widgets/controls"
          }
        },
        "812da6d57d174803b6d36d08214dcb3b": {
          "model_module": "@jupyter-widgets/base",
          "model_name": "LayoutModel",
          "model_module_version": "1.2.0",
          "state": {
            "_view_name": "LayoutView",
            "grid_template_rows": null,
            "right": null,
            "justify_content": null,
            "_view_module": "@jupyter-widgets/base",
            "overflow": null,
            "_model_module_version": "1.2.0",
            "_view_count": null,
            "flex_flow": null,
            "width": null,
            "min_width": null,
            "border": null,
            "align_items": null,
            "bottom": null,
            "_model_module": "@jupyter-widgets/base",
            "top": null,
            "grid_column": null,
            "overflow_y": null,
            "overflow_x": null,
            "grid_auto_flow": null,
            "grid_area": null,
            "grid_template_columns": null,
            "flex": null,
            "_model_name": "LayoutModel",
            "justify_items": null,
            "grid_row": null,
            "max_height": null,
            "align_content": null,
            "visibility": null,
            "align_self": null,
            "height": null,
            "min_height": null,
            "padding": null,
            "grid_auto_rows": null,
            "grid_gap": null,
            "max_width": null,
            "order": null,
            "_view_module_version": "1.2.0",
            "grid_template_areas": null,
            "object_position": null,
            "object_fit": null,
            "grid_auto_columns": null,
            "margin": null,
            "display": null,
            "left": null
          }
        },
        "07f957bdc5fe47e88c9e5c9bd66881cb": {
          "model_module": "@jupyter-widgets/controls",
          "model_name": "ProgressStyleModel",
          "model_module_version": "1.5.0",
          "state": {
            "_view_name": "StyleView",
            "_model_name": "ProgressStyleModel",
            "description_width": "",
            "_view_module": "@jupyter-widgets/base",
            "_model_module_version": "1.5.0",
            "_view_count": null,
            "_view_module_version": "1.2.0",
            "bar_color": null,
            "_model_module": "@jupyter-widgets/controls"
          }
        },
        "65028b6bc3cd45b0a897197f0727c156": {
          "model_module": "@jupyter-widgets/base",
          "model_name": "LayoutModel",
          "model_module_version": "1.2.0",
          "state": {
            "_view_name": "LayoutView",
            "grid_template_rows": null,
            "right": null,
            "justify_content": null,
            "_view_module": "@jupyter-widgets/base",
            "overflow": null,
            "_model_module_version": "1.2.0",
            "_view_count": null,
            "flex_flow": null,
            "width": null,
            "min_width": null,
            "border": null,
            "align_items": null,
            "bottom": null,
            "_model_module": "@jupyter-widgets/base",
            "top": null,
            "grid_column": null,
            "overflow_y": null,
            "overflow_x": null,
            "grid_auto_flow": null,
            "grid_area": null,
            "grid_template_columns": null,
            "flex": null,
            "_model_name": "LayoutModel",
            "justify_items": null,
            "grid_row": null,
            "max_height": null,
            "align_content": null,
            "visibility": null,
            "align_self": null,
            "height": null,
            "min_height": null,
            "padding": null,
            "grid_auto_rows": null,
            "grid_gap": null,
            "max_width": null,
            "order": null,
            "_view_module_version": "1.2.0",
            "grid_template_areas": null,
            "object_position": null,
            "object_fit": null,
            "grid_auto_columns": null,
            "margin": null,
            "display": null,
            "left": null
          }
        },
        "38d33132da1d4397aabd6d62bc6cd333": {
          "model_module": "@jupyter-widgets/controls",
          "model_name": "DescriptionStyleModel",
          "model_module_version": "1.5.0",
          "state": {
            "_view_name": "StyleView",
            "_model_name": "DescriptionStyleModel",
            "description_width": "",
            "_view_module": "@jupyter-widgets/base",
            "_model_module_version": "1.5.0",
            "_view_count": null,
            "_view_module_version": "1.2.0",
            "_model_module": "@jupyter-widgets/controls"
          }
        },
        "2f93d41241184ea88027c25ed14bd40e": {
          "model_module": "@jupyter-widgets/base",
          "model_name": "LayoutModel",
          "model_module_version": "1.2.0",
          "state": {
            "_view_name": "LayoutView",
            "grid_template_rows": null,
            "right": null,
            "justify_content": null,
            "_view_module": "@jupyter-widgets/base",
            "overflow": null,
            "_model_module_version": "1.2.0",
            "_view_count": null,
            "flex_flow": null,
            "width": null,
            "min_width": null,
            "border": null,
            "align_items": null,
            "bottom": null,
            "_model_module": "@jupyter-widgets/base",
            "top": null,
            "grid_column": null,
            "overflow_y": null,
            "overflow_x": null,
            "grid_auto_flow": null,
            "grid_area": null,
            "grid_template_columns": null,
            "flex": null,
            "_model_name": "LayoutModel",
            "justify_items": null,
            "grid_row": null,
            "max_height": null,
            "align_content": null,
            "visibility": null,
            "align_self": null,
            "height": null,
            "min_height": null,
            "padding": null,
            "grid_auto_rows": null,
            "grid_gap": null,
            "max_width": null,
            "order": null,
            "_view_module_version": "1.2.0",
            "grid_template_areas": null,
            "object_position": null,
            "object_fit": null,
            "grid_auto_columns": null,
            "margin": null,
            "display": null,
            "left": null
          }
        }
      }
    }
  },
  "cells": [
    {
      "cell_type": "markdown",
      "metadata": {
        "id": "vM54r6jlKTII"
      },
      "source": [
        "## Install dependencies and initialization"
      ]
    },
    {
      "cell_type": "code",
      "metadata": {
        "id": "9_FzH13EjseR"
      },
      "source": [
        "# install dependencies: \n",
        "!pip install pyyaml==5.1 pycocotools>=2.0.1\n",
        "# !pip install detectron2 -f https://dl.fbaipublicfiles.com/detectron2/wheels/cu101/torch1.6/index.html\n",
        "!pip install detectron2 -f https://dl.fbaipublicfiles.com/detectron2/wheels/cu111/torch1.9/index.html"
      ],
      "execution_count": null,
      "outputs": []
    },
    {
      "cell_type": "code",
      "metadata": {
        "colab": {
          "base_uri": "https://localhost:8080/"
        },
        "id": "dqAUb5Y12qXt",
        "outputId": "fdfa72c1-147d-45d2-c7b3-d0a67408299d"
      },
      "source": [
        "!pwd # shows current directory\n",
        "!ls  # shows all files in this directory\n",
        "!nvidia-smi # shows the specs and the current status of the allocated GPU"
      ],
      "execution_count": null,
      "outputs": [
        {
          "output_type": "stream",
          "name": "stdout",
          "text": [
            "/content\n",
            "'=2.0.1'   drive   output   sample_data\n",
            "Mon Nov  8 04:22:13 2021       \n",
            "+-----------------------------------------------------------------------------+\n",
            "| NVIDIA-SMI 495.44       Driver Version: 460.32.03    CUDA Version: 11.2     |\n",
            "|-------------------------------+----------------------+----------------------+\n",
            "| GPU  Name        Persistence-M| Bus-Id        Disp.A | Volatile Uncorr. ECC |\n",
            "| Fan  Temp  Perf  Pwr:Usage/Cap|         Memory-Usage | GPU-Util  Compute M. |\n",
            "|                               |                      |               MIG M. |\n",
            "|===============================+======================+======================|\n",
            "|   0  Tesla K80           Off  | 00000000:00:04.0 Off |                    0 |\n",
            "| N/A   66C    P8    35W / 149W |      0MiB / 11441MiB |      0%      Default |\n",
            "|                               |                      |                  N/A |\n",
            "+-------------------------------+----------------------+----------------------+\n",
            "                                                                               \n",
            "+-----------------------------------------------------------------------------+\n",
            "| Processes:                                                                  |\n",
            "|  GPU   GI   CI        PID   Type   Process name                  GPU Memory |\n",
            "|        ID   ID                                                   Usage      |\n",
            "|=============================================================================|\n",
            "|  No running processes found                                                 |\n",
            "+-----------------------------------------------------------------------------+\n"
          ]
        }
      ]
    },
    {
      "cell_type": "code",
      "metadata": {
        "colab": {
          "base_uri": "https://localhost:8080/"
        },
        "id": "b-i4hmGYk1dL",
        "outputId": "6f291577-6d6e-481a-e407-9d3f28916714"
      },
      "source": [
        "# import some common libraries\n",
        "from google.colab.patches import cv2_imshow\n",
        "from sklearn.metrics import jaccard_score\n",
        "from PIL import Image, ImageDraw\n",
        "from tqdm.notebook import tqdm\n",
        "import pandas as pd\n",
        "import numpy as np\n",
        "import datetime\n",
        "import random\n",
        "import json\n",
        "import cv2\n",
        "import csv\n",
        "import os\n",
        "\n",
        "# import some common pytorch utilities\n",
        "from torch.utils.data import Dataset, DataLoader\n",
        "import torchvision.transforms as transforms\n",
        "from torch.autograd import Variable\n",
        "import torch.nn.functional as F\n",
        "import torch.nn as nn\n",
        "import torch\n",
        "\n",
        "# import some common detectron2 utilities\n",
        "import detectron2\n",
        "from detectron2 import model_zoo\n",
        "from detectron2.config import get_cfg\n",
        "from detectron2.structures import BoxMode\n",
        "from detectron2.engine import DefaultTrainer\n",
        "from detectron2.engine import DefaultPredictor\n",
        "from detectron2.utils.logger import setup_logger\n",
        "from detectron2.utils.visualizer import ColorMode\n",
        "from detectron2.utils.visualizer import Visualizer\n",
        "from detectron2.data import build_detection_test_loader\n",
        "from detectron2.data import MetadataCatalog, DatasetCatalog\n",
        "from detectron2.evaluation import COCOEvaluator, inference_on_dataset\n",
        "setup_logger()"
      ],
      "execution_count": null,
      "outputs": [
        {
          "output_type": "execute_result",
          "data": {
            "text/plain": [
              "<Logger detectron2 (DEBUG)>"
            ]
          },
          "metadata": {},
          "execution_count": 2
        }
      ]
    },
    {
      "cell_type": "code",
      "metadata": {
        "colab": {
          "base_uri": "https://localhost:8080/"
        },
        "id": "tUA_j6AF1L5Y",
        "outputId": "ae65ba9d-b6ae-459d-d70a-d139bb2af625"
      },
      "source": [
        "# Make sure that GPU is available for your notebook. \n",
        "# Otherwise, you need to update the settungs in Runtime -> Change runtime type -> Hardware accelerator\n",
        "torch.cuda.is_available()"
      ],
      "execution_count": null,
      "outputs": [
        {
          "output_type": "execute_result",
          "data": {
            "text/plain": [
              "True"
            ]
          },
          "metadata": {},
          "execution_count": 3
        }
      ]
    },
    {
      "cell_type": "code",
      "metadata": {
        "colab": {
          "background_save": true
        },
        "id": "ZyAvNCJMmvFF",
        "outputId": "dd4b236b-2014-4c54-a4b7-9e1cbb4059ed"
      },
      "source": [
        "# You need to mount your google drive in order to load the data:\n",
        "from google.colab import drive\n",
        "drive.mount('/content/drive', True)\n",
        "# Put all the corresponding data files in a data folder and put the data folder in a same directory with this notebook.\n",
        "# Also create an output directory for your files such as the trained models and the output images."
      ],
      "execution_count": null,
      "outputs": [
        {
          "name": "stdout",
          "output_type": "stream",
          "text": [
            "Mounted at /content/drive\n"
          ]
        }
      ]
    },
    {
      "cell_type": "markdown",
      "metadata": {
        "id": "Vk4gID50K03a"
      },
      "source": [
        "## Part 1: Object Detection"
      ]
    },
    {
      "cell_type": "markdown",
      "metadata": {
        "id": "xRV-KFJzlur4"
      },
      "source": [
        "### Data Loader"
      ]
    },
    {
      "cell_type": "code",
      "metadata": {
        "id": "dq9GY37ml1kr"
      },
      "source": [
        "'''\n",
        "# This function returns a list of data samples in which each sample is a dictionary. \n",
        "# Make sure to select the correct bbox_mode for the data\n",
        "# For the test data, you only have access to the images, therefore, the annotations should be empty.\n",
        "# Other values could be obtained from the image files.\n",
        "'''\n",
        "\n",
        "def get_detection_data(set_name): \n",
        "  test_dirs = '{}/data/test'.format(BASE_DIR)\n",
        "\n",
        "  if set_name == 'test':\n",
        "\n",
        "    dataset = []\n",
        "    for i in os.listdir(test_dirs):\n",
        "      test = {}\n",
        "      filename = os.path.join(test_dirs, i)\n",
        "      width, height = Image.open(filename).size\n",
        "      test[\"file_name\"] = filename\n",
        "      test[\"width\"] = width\n",
        "      test[\"height\"] = height\n",
        "      test[\"annotations\"] = []\n",
        "      dataset.append(test)\n",
        "\n",
        "    return dataset\n",
        "\n",
        "  else:\n",
        "    data_dirs = '{}/data'.format(BASE_DIR)\n",
        "    train_dirs = '{}/data/train'.format(BASE_DIR)\n",
        "    \n",
        "    dataset = []\n",
        "    objects = []\n",
        "    file = os.path.join(data_dirs, \"train.json\")\n",
        "    with open(file) as f:\n",
        "      imgs_anns = json.load(f)\n",
        "\n",
        "    dataset_dicts = []\n",
        "    currfilename = ''\n",
        "    for idx, v in enumerate(tqdm(imgs_anns)):\n",
        "\n",
        "      prevfilename = currfilename      \n",
        "      currfilename = os.path.join(train_dirs, v[\"file_name\"])\n",
        "\n",
        "      record = {}\n",
        "\n",
        "      if currfilename != prevfilename:\n",
        "        objects = []\n",
        "        img = Image.open(currfilename)\n",
        "        width, height =  img.size\n",
        "        record[\"file_name\"] = currfilename\n",
        "        record[\"image_id\"] = idx\n",
        "        record[\"height\"] = height\n",
        "        record[\"width\"] = width   \n",
        "        dataset.append(record)    \n",
        "\n",
        "\n",
        "      obj =  {\n",
        "          \"bbox\": v[\"bbox\"],\n",
        "          \"bbox_mode\": BoxMode.XYWH_ABS,      \n",
        "          \"segmentation\": v[\"segmentation\"],\n",
        "          \"category_id\": 0,\n",
        "      }\n",
        "      objects.append(obj)\n",
        "      record[\"annotations\"] = objects\n",
        "      \n",
        "\n",
        "    \n",
        "      \n",
        "        \n",
        "    return dataset\n"
      ],
      "execution_count": null,
      "outputs": []
    },
    {
      "cell_type": "code",
      "metadata": {
        "colab": {
          "base_uri": "https://localhost:8080/",
          "height": 49,
          "referenced_widgets": [
            "38dbf0b3fc84429fb87ebfcabd59b18e",
            "7eaa572096984a5395489c803a0ea5f5",
            "4b99d59b5d904daeb05a3e58a1d7aefd",
            "98c13d709ae647e09e39ff4e34d38283",
            "337bd78cbf5b45978eb8ba4eef7300e9",
            "e1ae8cb2f37846a6ae6d6a3dfc99eb82",
            "812da6d57d174803b6d36d08214dcb3b",
            "07f957bdc5fe47e88c9e5c9bd66881cb",
            "65028b6bc3cd45b0a897197f0727c156",
            "38d33132da1d4397aabd6d62bc6cd333",
            "2f93d41241184ea88027c25ed14bd40e"
          ]
        },
        "id": "xCH-2mWxDVVu",
        "outputId": "c8f4b854-46e6-4936-b86a-c7e7e29de2fd"
      },
      "source": [
        "'''\n",
        "# Remember to add your dataset to DatasetCatalog and MetadataCatalog\n",
        "# Consdier \"data_detection_train\" and \"data_detection_test\" for registration\n",
        "# You can also add an optional \"data_detection_val\" for your validation by spliting the training data\n",
        "'''\n",
        "DatasetCatalog.clear()\n",
        "data_train = get_detection_data('train')\n",
        "data_test = get_detection_data('test')\n",
        "\n",
        "DatasetCatalog.register(\"airplane_train\", lambda: data_train)\n",
        "DatasetCatalog.register(\"airplane_test\", lambda: data_test)\n",
        "\n",
        "#for d in [\"train\", \"val\", \"test\"]:\n",
        "for d in [\"train\", \"test\"]:\n",
        "  MetadataCatalog.get(\"airplane_\" + d).set(thing_classes=[\"plane\"])\n",
        "\n",
        "plane_train_metadata = MetadataCatalog.get(\"airplane_train\")\n",
        "plane_test_metadata = MetadataCatalog.get(\"airplane_test\")"
      ],
      "execution_count": null,
      "outputs": [
        {
          "output_type": "display_data",
          "data": {
            "application/vnd.jupyter.widget-view+json": {
              "model_id": "38dbf0b3fc84429fb87ebfcabd59b18e",
              "version_minor": 0,
              "version_major": 2
            },
            "text/plain": [
              "  0%|          | 0/7980 [00:00<?, ?it/s]"
            ]
          },
          "metadata": {}
        }
      ]
    },
    {
      "cell_type": "code",
      "metadata": {
        "id": "qNSdXCL_DVAz"
      },
      "source": [
        "'''\n",
        "# Visualize some samples using Visualizer to make sure that the function works correctly\n",
        "'''\n",
        "\n",
        "i = 0\n",
        "for d in random.sample(data_train, 3):\n",
        "  \n",
        "    img = cv2.imread(d[\"file_name\"])\n",
        "    \n",
        "    visualizer = Visualizer(img[:, :, ::-1], metadata=plane_train_metadata, scale=0.5)\n",
        "    out = visualizer.draw_dataset_dict(d)\n",
        "    cv2_imshow(out.get_image()[:, :, ::-1])\n"
      ],
      "execution_count": null,
      "outputs": []
    },
    {
      "cell_type": "markdown",
      "metadata": {
        "id": "uM1thbN-ntjI"
      },
      "source": [
        "### Set Configs"
      ]
    },
    {
      "cell_type": "code",
      "metadata": {
        "id": "HUjkwRsOn1O0"
      },
      "source": [
        "'''\n",
        "# Set the configs for the detection part in here.\n",
        "'''\n",
        "\n",
        "cfg = get_cfg()\n",
        "cfg.OUTPUT_DIR = \"{}/output/\".format(BASE_DIR)\n",
        "\n",
        "cfg.merge_from_file(model_zoo.get_config_file(\"COCO-Detection/faster_rcnn_R_101_FPN_3x.yaml\"))\n",
        "cfg.DATASETS.TRAIN = (\"airplane_train\")\n",
        "cfg.DATASETS.TEST = ()\n",
        "\n",
        "cfg.DATALOADER.NUM_WORKERS = 2\n",
        "cfg.SOLVER.BASE_LR = 0.00025\n",
        "cfg.SOLVER.IMS_PER_BATCH = 2\n",
        "cfg.SOLVER.MAX_ITER = 700\n",
        "cfg.MODEL.ROI_HEADS.BATCH_SIZE_PER_IMAGE = 512   \n",
        "cfg.MODEL.ROI_HEADS.NUM_CLASSES = 1"
      ],
      "execution_count": null,
      "outputs": []
    },
    {
      "cell_type": "markdown",
      "metadata": {
        "id": "P4rql8pNokE4"
      },
      "source": [
        "### Training"
      ]
    },
    {
      "cell_type": "code",
      "metadata": {
        "id": "7d3KxiHO_0gb"
      },
      "source": [
        "'''\n",
        "# Create a DefaultTrainer using the above config and train the model\n",
        "'''\n",
        "os.makedirs(cfg.OUTPUT_DIR, exist_ok= True)\n",
        "trainer = DefaultTrainer(cfg)\n",
        "\n",
        "#trainer.train()\n"
      ],
      "execution_count": null,
      "outputs": []
    },
    {
      "cell_type": "markdown",
      "metadata": {
        "id": "fRVEiICco3SV"
      },
      "source": [
        "### Evaluation and Visualization"
      ]
    },
    {
      "cell_type": "code",
      "metadata": {
        "id": "NFGr8tgXJLds"
      },
      "source": [
        "'''\n",
        "# After training the model, we need to update cfg.MODEL.WEIGHTS\n",
        "# Define a DefaultPredictor\n",
        "'''\n",
        "\n",
        "cfg.MODEL.WEIGHTS = os.path.join(\"/content/drive/My Drive/SFU_CMPT_CV_Lab3/output\", \"model_final.pth\")\n",
        "cfg.MODEL.ROI_HEADS.SCORE_THRESH_TEST = 0.4\n",
        "predictor = DefaultPredictor(cfg)\n"
      ],
      "execution_count": null,
      "outputs": []
    },
    {
      "cell_type": "code",
      "metadata": {
        "id": "_hRCf86KGi5v"
      },
      "source": [
        "'''\n",
        "# Visualize the output for 3 random test samples\n",
        "'''\n",
        "\n",
        "print(data_train[0])\n",
        "print(data_test[0])\n",
        "\n",
        "for i in random.sample(data_test, 3):\n",
        "  image = cv2.imread(i['file_name'])\n",
        "  output = predictor(image)\n",
        "\n",
        "  v = Visualizer(image[:, :, ::-1],\n",
        "                 metadata = plane_test_metadata,\n",
        "                 scale = 0.5)\n",
        "  out = v.draw_instance_predictions(output['instances'].to('cpu'))\n",
        "  cv2_imshow(out.get_image()[:, :, ::-1])"
      ],
      "execution_count": null,
      "outputs": []
    },
    {
      "cell_type": "code",
      "metadata": {
        "id": "HjSiAfmmyXnA"
      },
      "source": [
        "%load_ext tensorboard\n",
        "%tensorboard --logdir output"
      ],
      "execution_count": null,
      "outputs": []
    },
    {
      "cell_type": "code",
      "metadata": {
        "id": "D0wRdlcKo6BD"
      },
      "source": [
        "'''\n",
        "# Using COCOEvaluator and build_detection_train_loader\n",
        "# You can save the output predictions using inference_on_dataset\n",
        "'''\n",
        "\n",
        "from detectron2.evaluation import COCOEvaluator, inference_on_dataset\n",
        "from detectron2.data import build_detection_test_loader\n",
        "\n",
        "evaluator = COCOEvaluator(\"airplane_train\", cfg, False, output_dir= \"./output/\")\n",
        "val_loader = build_detection_test_loader(cfg, \"airplane_train\")\n",
        "print(inference_on_dataset(trainer.model, val_loader, evaluator))\n"
      ],
      "execution_count": null,
      "outputs": []
    },
    {
      "cell_type": "markdown",
      "metadata": {
        "id": "98_M4TooqSs2"
      },
      "source": [
        "## Part 2: Semantic Segmentation"
      ]
    },
    {
      "cell_type": "markdown",
      "metadata": {
        "id": "ByAEsMtIPLrO"
      },
      "source": [
        "### Data Loader"
      ]
    },
    {
      "cell_type": "code",
      "metadata": {
        "id": "peQ95zLuIpkk"
      },
      "source": [
        "'''\n",
        "# A function that returns the cropped image and corresponding mask regarding the target bounding box\n",
        "# idx is the index of the target bbox in the data\n",
        "# high-resolution image could be passed or could be load from data['file_name']\n",
        "# You can use the mask attribute of detectron2.utils.visualizer.GenericMask \n",
        "#     to convert the segmentation annotations to binary masks\n",
        "'''\n",
        "\n",
        "\n",
        "def get_instance_sample(data, idx, image):\n",
        "\n",
        "  annotations = data['annotations'][idx]\n",
        "  bbox = annotations['bbox']\n",
        "  x,y,w,h = bbox\n",
        "  x = int(x)\n",
        "  y = int(y)\n",
        "  w = int(w)\n",
        "  h = int(h)     \n",
        "  img = image[y:y+h, x:x+w]\n",
        "    \n",
        "  mask = detectron2.utils.visualizer.GenericMask(data['annotations'][idx]['segmentation'], \n",
        "                                                    data['height'], data['width']).mask\n",
        "  mask = mask[y:y+h, x:x+w]\n",
        "  obj_img = cv2.resize(img, (128,128), interpolation = cv2.INTER_AREA) \n",
        "  obj_mask = cv2.resize(mask, (128,128), interpolation = cv2.INTER_AREA)\n",
        "      \n",
        "   \n",
        "  return obj_img, obj_mask"
      ],
      "execution_count": null,
      "outputs": []
    },
    {
      "cell_type": "code",
      "metadata": {
        "id": "sxrc9X_pjzj-"
      },
      "source": [
        "'''\n",
        "# A data loader for segmentation training\n",
        "#  __getitem__() \n",
        "# Also added data augmentation or normalization in here\n",
        "'''\n",
        "\n",
        "class PlaneDataset(Dataset):\n",
        "  def __init__(self, set_name, data_list):\n",
        "      self.transforms = transforms.Compose([\n",
        "          transforms.ToTensor(), # Converting the image to tensor and change the image format (Channels-Last => Channels-First)\n",
        "      ])\n",
        "      self.set_name = set_name\n",
        "      self.data = data_list\n",
        "      self.instance_map = []\n",
        "      for i, d in enumerate(tqdm(self.data)):\n",
        "        image = cv2.imread(d['file_name'])\n",
        "        for j in range(len(d['annotations'])):\n",
        "          img, mask = get_instance_sample(d, j, image)\n",
        "          self.instance_map.append((img, mask)) \n",
        "\n",
        "  '''\n",
        "  # you can change the value of length to a small number like 10 for debugging of your training procedure and overfeating\n",
        "  # make sure to use the correct length for the final training\n",
        "  '''\n",
        "  def __len__(self):\n",
        "      return len(self.instance_map)\n",
        "\n",
        "  def numpy_to_tensor(self, img, mask):\n",
        "    if self.transforms is not None:\n",
        "        img = self.transforms(img)\n",
        "    img = torch.tensor(img, dtype=torch.float)\n",
        "    mask = torch.tensor(mask, dtype=torch.float)\n",
        "    return img, mask\n",
        "\n",
        "  '''\n",
        "  # Complete this part by using get_instance_sample function\n",
        "  # make sure to resize the img and mask to a fixed size (for example 128*128)\n",
        "  # you can use \"interpolate\" function of pytorch or \"numpy.resize\"\n",
        "  # TODO: 5 lines\n",
        "  '''\n",
        "  def __getitem__(self, idx):\n",
        "    if torch.is_tensor(idx):\n",
        "        idx = idx.tolist()        \n",
        "\n",
        "    return self.instance_map[idx]\n",
        "\n",
        "def get_plane_dataset(set_name='train', batch_size=2):\n",
        "    my_data_list = DatasetCatalog.get(\"airplane_{}\".format(set_name))\n",
        "    dataset = PlaneDataset(set_name, my_data_list)\n",
        "    loader = DataLoader(dataset, batch_size=batch_size, num_workers=4,\n",
        "                                              pin_memory=True, shuffle=True)\n",
        "    return loader, dataset"
      ],
      "execution_count": null,
      "outputs": []
    },
    {
      "cell_type": "markdown",
      "metadata": {
        "id": "m6eH3NKaQQfc"
      },
      "source": [
        "### Network"
      ]
    },
    {
      "cell_type": "code",
      "metadata": {
        "id": "PeqR3s3dSBPN"
      },
      "source": [
        "'''\n",
        "# convolution module layer consists of conv2d layer, batch normalization, and relu activation\n",
        "'''\n",
        "class conv(nn.Module):\n",
        "    def __init__(self, in_ch, out_ch, activation=True):\n",
        "        super(conv, self).__init__()\n",
        "        if(activation):\n",
        "          self.layer = nn.Sequential(\n",
        "             nn.Conv2d(in_ch, out_ch, 3, padding=1),\n",
        "             nn.BatchNorm2d(out_ch),\n",
        "             nn.ReLU(inplace=True)\n",
        "          )\n",
        "        else:\n",
        "          self.layer = nn.Sequential(\n",
        "             nn.Conv2d(in_ch, out_ch, 3, padding=1)  \n",
        "             )\n",
        "\n",
        "    def forward(self, x):\n",
        "        x = self.layer(x)\n",
        "        return x\n",
        "\n",
        "'''\n",
        "# downsampling module equal to a conv module followed by a max-pool layer\n",
        "'''\n",
        "class down(nn.Module):\n",
        "    def __init__(self, in_ch, out_ch):\n",
        "        super(down, self).__init__()\n",
        "        self.layer = nn.Sequential(\n",
        "            conv(in_ch, out_ch),\n",
        "            nn.MaxPool2d(2)\n",
        "            )\n",
        "\n",
        "    def forward(self, x):\n",
        "        x = self.layer(x)\n",
        "        return x\n",
        "\n",
        "'''\n",
        "# upsampling module equal to a upsample function followed by a conv module\n",
        "'''\n",
        "class up(nn.Module):\n",
        "    def __init__(self, in_ch, out_ch, bilinear=False):\n",
        "        super(up, self).__init__()\n",
        "        if bilinear:\n",
        "            self.up = nn.Upsample(scale_factor=2, mode='bilinear', align_corners=True)\n",
        "        else:\n",
        "            self.up = nn.ConvTranspose2d(in_ch, in_ch, 2, stride=2)\n",
        "\n",
        "        self.conv = conv(in_ch, out_ch)\n",
        "\n",
        "    def forward(self, x):\n",
        "        y = self.up(x)\n",
        "        y = self.conv(y)\n",
        "        return y\n",
        "\n",
        "'''\n",
        "# the main model completed by using above modules.\n",
        "# you can also modify the above modules in order to improve your results.\n",
        "'''\n",
        "class MyModel(nn.Module):\n",
        "    def __init__(self):\n",
        "        super(MyModel, self).__init__()\n",
        "          \n",
        "        # Encoder\n",
        "        \n",
        "        self.input_conv = conv(3, 32)\n",
        "        self.down1 = down(32, 64)\n",
        "        self.down2 = down(64, 128)\n",
        "        \n",
        "        # Decoder\n",
        "        self.up1 = up(128, 64)\n",
        "        self.up2 = up(64, 32)\n",
        "        self.up3 = up(32, 3)\n",
        "        self.output_conv = conv(3, 1, False) \n",
        "        \n",
        "        self.normal1 = nn.BatchNorm2d(32)\n",
        "        self.normal2 = nn.BatchNorm2d(64)\n",
        "        self.normal3 = nn.BatchNorm2d(128)\n",
        "\n",
        "    def forward(self, input):\n",
        "      y = self.input_conv(input)\n",
        "      y = self.down1(y)\n",
        "      y = self.down2(y)\n",
        " \n",
        "      y = self.up1(y)\n",
        "      y = self.up2(y)\n",
        "      y = self.up3(y)\n",
        "      output = self.output_conv(y)\n",
        "      return output\n"
      ],
      "execution_count": null,
      "outputs": []
    },
    {
      "cell_type": "code",
      "metadata": {
        "id": "E_2vJm6l5fd8"
      },
      "source": [
        "from torchsummary import summary"
      ],
      "execution_count": null,
      "outputs": []
    },
    {
      "cell_type": "code",
      "metadata": {
        "id": "7SigGpMhbso0"
      },
      "source": [
        "model = MyModel().cuda()\n",
        "summary(model, (3, 128, 128))"
      ],
      "execution_count": null,
      "outputs": []
    },
    {
      "cell_type": "markdown",
      "metadata": {
        "id": "rQj86vD9QT_Z"
      },
      "source": [
        "### Training"
      ]
    },
    {
      "cell_type": "code",
      "metadata": {
        "id": "MaZuO4SKSBuF"
      },
      "source": [
        "'''\n",
        "# The following is a basic training procedure to train the network\n",
        "# Updated the code to get the best performance\n",
        "'''\n",
        "\n",
        "# Set the hyperparameters\n",
        "num_epochs = 50\n",
        "batch_size = 4\n",
        "learning_rate = 0.001\n",
        "weight_decay = 1e-5\n",
        "\n",
        "model = MyModel() # initialize the model\n",
        "model = model.cuda() # move the model to GPU\n",
        "loader, _ = get_plane_dataset('train', batch_size) # initialize data_loader\n",
        "crit = nn.BCEWithLogitsLoss() # Define the loss function\n",
        "optim = torch.optim.SGD(model.parameters(), lr=learning_rate, weight_decay=weight_decay) # Initialize the optimizer as SGD\n",
        "\n",
        "# start the training procedure\n",
        "for epoch in range(num_epochs):\n",
        "  total_loss = 0\n",
        "  for (img, mask) in tqdm(loader):\n",
        "    \n",
        "    \n",
        "    cv2_imshow(img[0].cpu().detach().permute((0,1,2)).numpy())\n",
        "    img = torch.tensor(img, dtype=torch.float, device=torch.device('cuda'), requires_grad = True)\n",
        "    img = torch.permute(img, (0,3,1,2))\n",
        "    mask = torch.tensor(mask, dtype=torch.float, device=torch.device('cuda'), requires_grad = True).unsqueeze(1)\n",
        "    \n",
        "    cv2_imshow((mask[0]*255).cpu().detach().permute(1,2,0).numpy())\n",
        "    pred = model(img)\n",
        "    cv2_imshow((pred[0]*255).cpu().detach().permute(1,2,0).numpy())\n",
        "    loss = crit(pred, mask)\n",
        "    optim.zero_grad()\n",
        "    loss.backward()\n",
        "    optim.step()\n",
        "    total_loss += loss.cpu().data\n",
        "  print(\"Epoch: {}, Loss: {}\".format(epoch, total_loss/len(loader)))\n",
        "  torch.save(model.state_dict(), '{}/output/{}_segmentation_model.pth'.format(BASE_DIR, epoch))\n",
        "\n",
        "'''\n",
        "# Saving the final model\n",
        "'''\n",
        "torch.save(model.state_dict(), '{}/output/final_segmentation_model.pth'.format(BASE_DIR))\n"
      ],
      "execution_count": null,
      "outputs": []
    },
    {
      "cell_type": "code",
      "metadata": {
        "id": "jxY83AlfroCD"
      },
      "source": [
        "torch.save(model.state_dict(), '{}/output/final_segmentation_model.pth'.format(BASE_DIR))"
      ],
      "execution_count": null,
      "outputs": []
    },
    {
      "cell_type": "markdown",
      "metadata": {
        "id": "0dyez1fyQYw7"
      },
      "source": [
        "### Evaluation and Visualization"
      ]
    },
    {
      "cell_type": "code",
      "metadata": {
        "id": "TDeViryUSCL2"
      },
      "source": [
        "'''\n",
        "# Before starting the evaluation, we need to set the model mode to eval\n",
        "# We may load the trained model again, in case if we want to continue our code later\n",
        "'''\n",
        "batch_size = 4\n",
        "model = MyModel().cuda()\n",
        "model.load_state_dict(torch.load('{}/output/final_segmentation_model.pth'.format(BASE_DIR)))\n",
        "model = model.eval() # chaning the model to evaluation mode will fix the bachnorm layers\n",
        "loader, dataset = get_plane_dataset('train', batch_size)\n",
        "\n",
        "def sigmoid(x):\n",
        "  return 1/(1 + np.exp(-x))\n",
        "\n",
        "def iou_coef(y_true, y_pred):\n",
        "  y_true = np.rint(sigmoid(y_true))\n",
        "  y_pred = np.rint(sigmoid(y_pred))\n",
        "  intersection = np.count_nonzero(np.multiply(y_true, y_pred))\n",
        "  union = np.count_nonzero(y_true+y_pred)\n",
        "  if union == 0:\n",
        "      return 0\n",
        "  return intersection/union\n",
        "\n",
        "\n",
        "total_iou = 0\n",
        "count = 0\n",
        "for (img, mask) in tqdm(loader):\n",
        "  with torch.no_grad():\n",
        "    img = img.float()\n",
        "    img = torch.permute(img, (0,3,1,2))\n",
        "    img = img.cuda()\n",
        "\n",
        "    mask = torch.tensor(mask, dtype=torch.float, device=torch.device('cuda'), requires_grad = True)\n",
        "\n",
        "   # cv2_imshow((mask*255).cpu().detach().permute(1,2,0).numpy())\n",
        "    pred = model(img).cpu().detach()\n",
        "   # cv2_imshow((pred[0]*255).cpu().detach().permute(1,2,0).numpy())\n",
        "    for i in range(img.shape[0]):\n",
        "        newimg = transforms.ToPILImage()(img[i].cpu())\n",
        "        predicted = np.array(pred[i])[0]\n",
        "        #cv2_imshow(np.array(newimg))\n",
        "        #print(pred[i])\n",
        "        masked = np.array(mask[i].cpu().detach())\n",
        "        count+=1\n",
        "        total_iou+=iou_coef(masked, predicted)\n",
        "  '''\n",
        "  ## Obtaining the IoU for each img and print the final Mean IoU\n",
        "  '''\n",
        "    \n",
        "\n",
        "print(\"\\n #images: {}, Mean IoU: {}\".format(count, total_iou/count))\n"
      ],
      "execution_count": null,
      "outputs": []
    },
    {
      "cell_type": "markdown",
      "metadata": {
        "id": "navoiGdrqaZT"
      },
      "source": [
        "## Part 3: Instance Segmentation\n",
        "\n",
        "In this part, you need to obtain the instance segmentation results for the test data by using the trained segmentation model in the previous part and the detection model in Part 1."
      ]
    },
    {
      "cell_type": "markdown",
      "metadata": {
        "id": "vBwk33DGBowP"
      },
      "source": [
        "### Get Prediction"
      ]
    },
    {
      "cell_type": "code",
      "metadata": {
        "id": "crrZ8TG-Ot2J"
      },
      "source": [
        "'''\n",
        "# Defining a new function to obtain the prediction mask by passing a sample data\n",
        "# For this part, we need to use all the previous parts (predictor, get_instance_sample, data preprocessings, etc)\n",
        "# It is better to keep everything (as well as the output of this funcion) on gpu as tensors to speed up the operations.\n",
        "# pred_mask is the instance segmentation result and should have different values for different airplanes.\n",
        "'''\n",
        "\n",
        "\n",
        "def get_prediction_mask(data, bool = False):\n",
        "  image = cv2.imread(data['file_name'])\n",
        "  if bool:\n",
        "    maskdata = np.zeros([data['height'], data['width']])\n",
        "    for i,j in enumerate(data['annotations']):\n",
        "      bbox = j['bbox']\n",
        "      x,y,w,h = bbox\n",
        "      x = int(x)\n",
        "      y = int(y)\n",
        "      w = int(w)\n",
        "      h = int(h)\n",
        "      cropmask = image[y:y+h, x:x+w]\n",
        "      cropmask = torch.tensor(cropmask, dtype=torch.float, device=torch.device('cuda'), requires_grad = True).unsqueeze(1)\n",
        "      cropmask = torch.permute(cropmask, (1,3,0,2))\n",
        "      predicted_mask = model(cropmask)\n",
        "      \n",
        "      predicted_mask = predicted_mask.squeeze(1)\n",
        "      #cv2_imshow((predicted_mask*50).cpu().detach().permute(1,2,0).numpy())\n",
        "      predicted_mask[predicted_mask<0] = 0\n",
        "      predicted_mask[predicted_mask>0] = 1\n",
        "      predicted_mask = torch.floor(predicted_mask)\n",
        "      predicted_mask = predicted_mask.int()\n",
        "      predicted_mask = predicted_mask[0].cpu().detach().numpy()\n",
        "      predicted_mask = np.rint((predicted_mask))*(i+1) \n",
        "      #cv2_imshow(predicted_mask*30)\n",
        "      predicted_mask = cv2.resize(predicted_mask, (w,h))\n",
        "      maskdata[y:y+h, x:x+w] = predicted_mask  \n",
        "\n",
        "  else:\n",
        "    \n",
        "    predictionImg = predictor(image)['instances'].pred_boxes\n",
        "    maskdata = np.zeros([data['height'], data['width']])\n",
        "\n",
        "    for i in range(len(predictionImg)):\n",
        "      bbox = np.floor(predictionImg.tensor.cpu().numpy())\n",
        "      print(bbox)\n",
        "      x = int(bbox[i][0])\n",
        "      y = int(bbox[i][1])\n",
        "      w = int(bbox[i][2])\n",
        "      h = int(bbox[i][3])\n",
        "      cropmask = image[y:h, x:w]\n",
        "      cv2_imshow(cropmask)\n",
        "      cropmask = torch.tensor(cropmask, dtype=torch.float, device=torch.device('cuda'), requires_grad = True).unsqueeze(1)\n",
        "      cropmask = torch.permute(cropmask, (1,3,0,2))\n",
        "      predicted_mask = model(cropmask)\n",
        "      predicted_mask = predicted_mask.squeeze(1)\n",
        "      predicted_mask[predicted_mask<0] = 0\n",
        "      predicted_mask[predicted_mask>0] = 1\n",
        "      predicted_mask = torch.floor(predicted_mask)\n",
        "      predicted_mask = predicted_mask.int()\n",
        "      #cv2_imshow((predicted_mask*255).cpu().detach().permute(1,2,0).numpy())\n",
        "      predicted_mask = predicted_mask[0].cpu().detach().numpy()\n",
        "      predicted_mask = np.rint((predicted_mask))*(i+1) \n",
        "      predicted_mask = cv2.resize(predicted_mask, (w-x,h-y))\n",
        "      maskdata[y:h, x:w] = predicted_mask\n",
        "    gt_mask = np.zeros([data['height'], data['width']])\n",
        "\n",
        "    \n",
        "  for i, j in enumerate(data['annotations']):\n",
        "    bbox = j['bbox']\n",
        "    x,y,w,h = [int(j) for j in bbox]\n",
        "    h = h+y\n",
        "    w = w+x\n",
        "    local_gt_mask = detectron2.utils.visualizer.GenericMask(j['segmentation'], data['height'], data['width']).mask\n",
        "    overlapping = np.maximum(gt_mask[y:h, x:w],local_gt_mask[y:h, x:w]*(i+1))\n",
        "    gt_mask[y:h, x:w] = overlapping\n",
        "\n",
        "    \n",
        "\n",
        "  image = torch.tensor(image, dtype=torch.float, device=torch.device('cuda'), requires_grad = True)\n",
        "  gt_mask = torch.tensor(gt_mask, dtype=torch.float, device=torch.device('cuda'), requires_grad = True)\n",
        "  maskdata = torch.tensor(maskdata, dtype=torch.float, device=torch.device('cuda'), requires_grad = True)\n",
        "\n",
        "  return image, gt_mask, maskdata # gt_mask could be all zero when the ground truth is not given.\n",
        "     \n",
        "    \n",
        "\n",
        "    \n",
        "\n",
        "\n",
        "  \n"
      ],
      "execution_count": null,
      "outputs": []
    },
    {
      "cell_type": "code",
      "metadata": {
        "id": "6m0PCQzUfiDL"
      },
      "source": [
        "d = get_detection_data(\"train\")\n",
        "for i in tqdm(d):\n",
        "  get_prediction_mask(i, False)\n",
        " \n"
      ],
      "execution_count": null,
      "outputs": []
    },
    {
      "cell_type": "markdown",
      "metadata": {
        "id": "fc7TSK6EBi9u"
      },
      "source": [
        "### Visualization and Submission"
      ]
    },
    {
      "cell_type": "code",
      "metadata": {
        "id": "H7T2YX8MBiGO"
      },
      "source": [
        "'''\n",
        "# Visualise the output prediction as well as the GT Mask and Input image for a sample input\n",
        "'''\n",
        "dataset = get_detection_data('train.json')\n",
        "for i in np.random.randint(0,50,5):\n",
        "  img, true_mask, pred_mask = get_prediction_mask(dataset[i])\n",
        "\n",
        "  pred_mask = pred_mask.cpu().detach().numpy()\n",
        "  true_mask = true_mask.cpu().detach().numpy()\n",
        "  max_val = pred_mask.max()\n",
        "  fact = 255./max_val\n",
        "  pred_mask*= fact\n",
        "  max_val = true_mask.max()\n",
        "  fact = 255./max_val\n",
        "  true_mask*= fact\n",
        "  cv2_imshow(cv2.resize(img, (img.shape[1]//3, img.shape[0]//3), interpolation = cv2.INTER_AREA))\n",
        "  cv2_imshow(cv2.resize(true_mask, (true_mask.shape[1]//3, true_mask.shape[0]//3), interpolation = cv2.INTER_AREA))\n",
        "  print(\"\\n\")\n",
        "  cv2_imshow(cv2.resize(pred_mask, (pred_mask.shape[1]//3, pred_mask.shape[0]//3), interpolation = cv2.INTER_AREA))\n",
        "\n",
        "\n"
      ],
      "execution_count": null,
      "outputs": []
    },
    {
      "cell_type": "code",
      "metadata": {
        "id": "CbLrEnVGsuko"
      },
      "source": [
        "img, true_mask, pred_mask = get_prediction_mask(dataset[0])\n",
        "pred_file = open(\"{}/pred-test.csv\".format(BASE_DIR), 'w')\n",
        "pd.DataFrame(pred_mask).to_csv(pred_file, index=False)\n",
        "pred_file.close()"
      ],
      "execution_count": null,
      "outputs": []
    },
    {
      "cell_type": "code",
      "metadata": {
        "id": "uPo_03up-g_f"
      },
      "source": [
        "'''\n",
        "# ref: https://www.kaggle.com/rakhlin/fast-run-length-encoding-python\n",
        "# https://www.kaggle.com/c/airbus-ship-detection/overview/evaluation\n",
        "'''\n",
        "def rle_encoding(x):\n",
        "    '''\n",
        "    x: pytorch tensor on gpu, 1 - mask, 0 - background\n",
        "    Returns run length as list\n",
        "    '''\n",
        "    dots = torch.where(torch.flatten(x.long())==1)[0]\n",
        "    if(len(dots)==0):\n",
        "      return []\n",
        "    inds = torch.where(dots[1:]!=dots[:-1]+1)[0]+1\n",
        "    inds = torch.cat((torch.tensor([0], device=torch.device('cuda'), dtype=torch.long), inds))\n",
        "    tmpdots = dots[inds]\n",
        "    inds = torch.cat((inds, torch.tensor([len(dots)], device=torch.device('cuda'))))\n",
        "    inds = inds[1:] - inds[:-1]\n",
        "    runs = torch.cat((tmpdots, inds)).reshape((2,-1))\n",
        "    runs = torch.flatten(torch.transpose(runs, 0, 1)).cpu().data.numpy()\n",
        "    return ' '.join([str(i) for i in runs])"
      ],
      "execution_count": null,
      "outputs": []
    },
    {
      "cell_type": "code",
      "metadata": {
        "id": "zv0rab2LJev-"
      },
      "source": [
        "'''\n",
        "#\n",
        "# The speed of your code in the previous parts highly affects the running time of this part\n",
        "'''\n",
        "\n",
        "preddic = {\"ImageId\": [], \"EncodedPixels\": []}\n",
        "\n",
        "'''\n",
        "# Writing the predictions of the training set\n",
        "'''\n",
        "\n",
        "my_data_list = DatasetCatalog.get(\"airplane_{}\".format('train'))\n",
        "for i in tqdm(range(len(my_data_list)), position=0, leave=True):\n",
        "  print(i)\n",
        "  sample = my_data_list[i]\n",
        "  sample['image_id'] = sample['file_name'].split(\"/\")[-1][:-4]\n",
        "  img, true_mask, pred_mask = get_prediction_mask(sample)\n",
        "  \n",
        "  pred_file = open(\"{}/pred_mask.csv\".format(BASE_DIR), 'w')\n",
        "  pd.DataFrame(preddic).to_csv(pred_file, index=False)\n",
        "  pred_file.close()\n",
        "  inds = torch.unique(pred_mask)\n",
        "  if(len(inds)==1):\n",
        "    preddic['ImageId'].append(sample['image_id'])\n",
        "    preddic['EncodedPixels'].append([])\n",
        "  else:\n",
        "    for index in inds:\n",
        "      if(index == 0):\n",
        "        continue\n",
        "      \n",
        "      tmp_mask = (pred_mask==index)\n",
        "      encPix = rle_encoding(tmp_mask)\n",
        "      preddic['ImageId'].append(sample['image_id'])\n",
        "      preddic['EncodedPixels'].append(encPix)\n",
        "\n",
        "'''\n",
        "# Writing the predictions of the test set\n",
        "'''\n",
        "\n",
        "my_data_list = DatasetCatalog.get(\"airplane_{}\".format('test'))\n",
        "for i in tqdm(range(len(my_data_list)), position=0, leave=True):\n",
        "  sample = my_data_list[i]\n",
        "  sample['image_id'] = sample['file_name'].split(\"/\")[-1][:-4]\n",
        "  img, true_mask, pred_mask = get_prediction_mask(sample)\n",
        "  inds = torch.unique(pred_mask)\n",
        "  if(len(inds)==1):\n",
        "    preddic['ImageId'].append(sample['image_id'])\n",
        "    preddic['EncodedPixels'].append([])\n",
        "  else:\n",
        "    for j, index in enumerate(inds):\n",
        "      if(index == 0):\n",
        "        continue\n",
        "      tmp_mask = (pred_mask==index).double()\n",
        "      encPix = rle_encoding(tmp_mask)\n",
        "      preddic['ImageId'].append(sample['image_id'])\n",
        "      preddic['EncodedPixels'].append(encPix)\n",
        "\n",
        "pred_file = open(\"{}/pred.csv\".format(BASE_DIR), 'w')\n",
        "pd.DataFrame(preddic).to_csv(pred_file, index=False)\n",
        "pred_file.close()\n"
      ],
      "execution_count": null,
      "outputs": []
    },
    {
      "cell_type": "markdown",
      "metadata": {
        "id": "p7nN4SduqrpI"
      },
      "source": [
        "## Part 4: Mask R-CNN\n",
        "\n",
        "For this part you need to follow a same procedure to part 2 with the configs of Mask R-CNN, other parts are generally the same as part 2."
      ]
    },
    {
      "cell_type": "markdown",
      "metadata": {
        "id": "axWf7drKNXYd"
      },
      "source": [
        "### Data Loader"
      ]
    },
    {
      "cell_type": "code",
      "metadata": {
        "id": "yC1FDCcQN2LH"
      },
      "source": [
        "data = get_detection_data(\"train\")"
      ],
      "execution_count": null,
      "outputs": []
    },
    {
      "cell_type": "markdown",
      "metadata": {
        "id": "lG5slAhQNjE7"
      },
      "source": [
        "### Network"
      ]
    },
    {
      "cell_type": "code",
      "metadata": {
        "id": "KG1pnKLMOcjS"
      },
      "source": [
        "cfg = get_cfg()\n",
        "cfg.OUTPUT_DIR = \"{}/output/\".format(BASE_DIR)\n",
        "\n",
        "cfg.merge_from_file(model_zoo.get_config_file(\"COCO-InstanceSegmentation/mask_rcnn_R_50_FPN_3x.yaml\"))\n",
        "cfg.DATASETS.TRAIN = (\"airplane_train\")\n",
        "cfg.DATASETS.TEST = ()\n",
        "\n",
        "cfg.DATALOADER.NUM_WORKERS = 2\n",
        "cfg.SOLVER.BASE_LR = 0.00025\n",
        "cfg.SOLVER.IMS_PER_BATCH = 2\n",
        "cfg.SOLVER.MAX_ITER = 1000\n",
        "cfg.MODEL.ROI_HEADS.BATCH_SIZE_PER_IMAGE = 512   \n",
        "cfg.MODEL.ROI_HEADS.NUM_CLASSES = 1"
      ],
      "execution_count": null,
      "outputs": []
    },
    {
      "cell_type": "markdown",
      "metadata": {
        "id": "t7ifeV1sNvtt"
      },
      "source": [
        "### Training"
      ]
    },
    {
      "cell_type": "code",
      "metadata": {
        "id": "tc4K0Nz5OeKk"
      },
      "source": [
        "trainer = DefaultTrainer(cfg) \n",
        "#trainer.resume_or_load(resume=False) \n",
        "#trainer.train()\n",
        "cfg.MODEL.ROI_HEADS.SCORE_THRESH_TEST = 0.4\n",
        "predictor = DefaultPredictor(cfg)"
      ],
      "execution_count": null,
      "outputs": []
    },
    {
      "cell_type": "markdown",
      "metadata": {
        "id": "298QruFnNxyn"
      },
      "source": [
        "### Evaluation and Visualization"
      ]
    },
    {
      "cell_type": "code",
      "metadata": {
        "id": "KcGwV5-9Oetp"
      },
      "source": [
        "for i in random.sample(data_test, 3):\n",
        "  image = cv2.imread(i['file_name'])\n",
        "  output = predictor(image)\n",
        "\n",
        "  v = Visualizer(image[:, :, ::-1],\n",
        "                 metadata = plane_test_metadata,\n",
        "                 scale = 0.5)\n",
        "  out = v.draw_instance_predictions(output['instances'].to('cpu'))\n",
        "  cv2_imshow(out.get_image()[:, :, ::-1])"
      ],
      "execution_count": null,
      "outputs": []
    },
    {
      "cell_type": "code",
      "metadata": {
        "id": "l_3wS2BFLLGp"
      },
      "source": [
        "'''\n",
        "# Use COCOEvaluator and build_detection_train_loader\n",
        "# You can save the output predictions using inference_on_dataset\n",
        "# TODO: approx 5 lines\n",
        "'''\n",
        "from detectron2.evaluation import COCOEvaluator, inference_on_dataset\n",
        "from detectron2.data import build_detection_test_loader\n",
        "\n",
        "evaluator = COCOEvaluator(\"airplane_train\", cfg, False, output_dir= \"./output/\")\n",
        "val_loader = build_detection_test_loader(cfg, \"airplane_train\")\n",
        "print(inference_on_dataset(trainer.model, val_loader, evaluator))\n"
      ],
      "execution_count": null,
      "outputs": []
    }
  ]
}